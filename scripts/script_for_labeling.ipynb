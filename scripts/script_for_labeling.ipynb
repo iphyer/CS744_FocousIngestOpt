{
 "cells": [
  {
   "cell_type": "code",
   "execution_count": null,
   "metadata": {},
   "outputs": [],
   "source": [
    "import os"
   ]
  },
  {
   "cell_type": "code",
   "execution_count": 33,
   "metadata": {},
   "outputs": [],
   "source": [
    "files = os.listdir(\"../dataset\")"
   ]
  },
  {
   "cell_type": "code",
   "execution_count": 57,
   "metadata": {},
   "outputs": [],
   "source": [
    "import re\n",
    "r = re.compile(\"\\d+\")\n",
    "def cussort(a, b):\n",
    "    m1 = r.findall(a)\n",
    "    m2 = r.findall(b)\n",
    "    if m1[0] > m2[0]:\n",
    "        return 1\n",
    "    elif m1[0] < m2[0]:\n",
    "        return -1\n",
    "    else:\n",
    "        if m1[1] >= m2[1]:\n",
    "            return 1\n",
    "        else:\n",
    "            return -1"
   ]
  },
  {
   "cell_type": "code",
   "execution_count": 78,
   "metadata": {},
   "outputs": [],
   "source": [
    "import re\n",
    "r = re.compile(\"\\d+\")\n",
    "def key1(a):\n",
    "    m = r.findall(a)\n",
    "    return int(m[0]), int(m[1])"
   ]
  },
  {
   "cell_type": "code",
   "execution_count": 79,
   "metadata": {},
   "outputs": [
    {
     "data": {
      "text/plain": [
       "['585', '2']"
      ]
     },
     "execution_count": 79,
     "metadata": {},
     "output_type": "execute_result"
    }
   ],
   "source": [
    "m"
   ]
  },
  {
   "cell_type": "code",
   "execution_count": 81,
   "metadata": {},
   "outputs": [],
   "source": [
    "files.sort(key=key1)\n"
   ]
  },
  {
   "cell_type": "code",
   "execution_count": 83,
   "metadata": {},
   "outputs": [],
   "source": [
    "file1 = []\n",
    "file2 = []\n",
    "file3 = []"
   ]
  },
  {
   "cell_type": "code",
   "execution_count": 84,
   "metadata": {},
   "outputs": [],
   "source": [
    "for i in range(len(files)):\n",
    "    if i <= ((1.0 / 3) * len(files)):\n",
    "        file1.append(files[i])\n",
    "    elif i <= ((2.0/3) * len(files)):\n",
    "        file2.append(files[i])\n",
    "    else:\n",
    "        file3.append(files[i])"
   ]
  },
  {
   "cell_type": "code",
   "execution_count": null,
   "metadata": {},
   "outputs": [],
   "source": [
    "for i in range(len(file2)):\n",
    "    if file2[i] == cmp[i]:\n",
    "        print(str(i) + \"_file2: \" + file2[i] + \"_\" + cmp[i])"
   ]
  },
  {
   "cell_type": "code",
   "execution_count": 98,
   "metadata": {},
   "outputs": [],
   "source": [
    "import csv\n",
    "\n",
    "with open('./set1.csv', 'w') as myfile:\n",
    "    wr = csv.writer(myfile, delimiter=',') \n",
    "    for line in file1:\n",
    "        wr.writerow([line])\n"
   ]
  },
  {
   "cell_type": "code",
   "execution_count": 100,
   "metadata": {},
   "outputs": [],
   "source": [
    "with open('./set2.csv', 'w') as myfile:\n",
    "    wr = csv.writer(myfile, delimiter=',') \n",
    "    for line in file2:\n",
    "        wr.writerow([line])\n"
   ]
  },
  {
   "cell_type": "code",
   "execution_count": 101,
   "metadata": {},
   "outputs": [],
   "source": [
    "with open('./set3.csv', 'w') as myfile:\n",
    "    wr = csv.writer(myfile, delimiter=',') \n",
    "    for line in file3:\n",
    "        wr.writerow([line])\n"
   ]
  }
 ],
 "metadata": {
  "kernelspec": {
   "display_name": "Python 3",
   "language": "python",
   "name": "python3"
  },
  "language_info": {
   "codemirror_mode": {
    "name": "ipython",
    "version": 3
   },
   "file_extension": ".py",
   "mimetype": "text/x-python",
   "name": "python",
   "nbconvert_exporter": "python",
   "pygments_lexer": "ipython3",
   "version": "3.6.4"
  }
 },
 "nbformat": 4,
 "nbformat_minor": 2
}
