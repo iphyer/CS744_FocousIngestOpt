{
 "cells": [
  {
   "cell_type": "code",
   "execution_count": 1,
   "metadata": {},
   "outputs": [],
   "source": [
    "import numpy as np\n",
    "import cv2 as cv"
   ]
  },
  {
   "cell_type": "code",
   "execution_count": 2,
   "metadata": {},
   "outputs": [],
   "source": [
    "# cap = cv.VideoCapture(\"./dataset/M6 Motorway Traffic.mp4\")\n",
    "cap = cv.VideoCapture(\"../video/rouen_video.avi\")\n",
    "savepath = '../dataset/'"
   ]
  },
  {
   "cell_type": "code",
   "execution_count": 3,
   "metadata": {},
   "outputs": [],
   "source": [
    "# fgbg = cv.bgsegm.createBackgroundSubtractorMOG()\n",
    "fgbg = cv.bgsegm.createBackgroundSubtractorGMG()\n",
    "# kernel = cv.getStructuringElement(cv.MORPH_ELLIPSE,(3,3))"
   ]
  },
  {
   "cell_type": "code",
   "execution_count": 4,
   "metadata": {},
   "outputs": [],
   "source": [
    "\n",
    "# while(1):\n",
    "#     ret, frame = cap.read()\n",
    "#     fgmask = fgbg.apply(frame)\n",
    "#     cv.imshow('frame',fgmask)\n",
    "#     k = cv.waitKey(30) & 0xff\n",
    "#     if k == 27:\n",
    "#         break\n",
    "# cap.release()"
   ]
  },
  {
   "cell_type": "code",
   "execution_count": null,
   "metadata": {
    "scrolled": true
   },
   "outputs": [],
   "source": [
    "i = 0\n",
    "while(cap.isOpened):\n",
    "    ret, frame = cap.read()\n",
    "    if ret:\n",
    "        fgmask = fgbg.apply(frame)\n",
    "        (im2, contours, hierarchy) = cv.findContours(fgmask.copy(), cv.RETR_EXTERNAL,cv.CHAIN_APPROX_SIMPLE)\n",
    "        j = 0\n",
    "        for c in contours:\n",
    "            if cv.contourArea(c) < 500:\n",
    "                continue\n",
    "                \n",
    "            (x, y, w, h) = cv.boundingRect(c)\n",
    "#             cv.rectangle(frame, (x, y), (x + w, y + h), (0, 255, 0), 2)\n",
    "            patchimg = frame[y:y+h, x:x+w]\n",
    "            cv.imwrite(savepath + 'frame_' + str(i) + '_patch_' + str(j) + '.jpg', patchimg)\n",
    "            j+=1\n",
    "        \n",
    "#         cv.imshow('foreground and background',fgmask)\n",
    "#         cv.imshow('rgb',frame)\n",
    "#         cv.imwrite(savepath + 'frame_' + str(i) + '.png', frame)\n",
    "        i+=1\n",
    "        if cv.waitKey(1) & 0xFF == ord(\"q\"):\n",
    "            break\n",
    "cap.release()\n",
    "cv.destroyAllWindows()"
   ]
  },
  {
   "cell_type": "code",
   "execution_count": 4,
   "metadata": {},
   "outputs": [],
   "source": [
    "grey_img = cv.imread('layout.jpg', cv.IMREAD_GRAYSCALE)"
   ]
  },
  {
   "cell_type": "code",
   "execution_count": 8,
   "metadata": {},
   "outputs": [
    {
     "data": {
      "text/plain": [
       "True"
      ]
     },
     "execution_count": 8,
     "metadata": {},
     "output_type": "execute_result"
    }
   ],
   "source": [
    "cv.imwrite(savepath + '1.png', grey_img)"
   ]
  },
  {
   "cell_type": "code",
   "execution_count": null,
   "metadata": {},
   "outputs": [],
   "source": []
  }
 ],
 "metadata": {
  "kernelspec": {
   "display_name": "Python 3",
   "language": "python",
   "name": "python3"
  },
  "language_info": {
   "codemirror_mode": {
    "name": "ipython",
    "version": 3
   },
   "file_extension": ".py",
   "mimetype": "text/x-python",
   "name": "python",
   "nbconvert_exporter": "python",
   "pygments_lexer": "ipython3",
   "version": "3.6.4"
  }
 },
 "nbformat": 4,
 "nbformat_minor": 2
}
